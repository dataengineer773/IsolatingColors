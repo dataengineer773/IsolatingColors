{
 "cells": [
  {
   "cell_type": "code",
   "execution_count": 1,
   "id": "aef6a258-30d8-4892-8954-159f7ee64c26",
   "metadata": {},
   "outputs": [],
   "source": [
    "# Load libraries\n",
    "import cv2\n",
    "import numpy as np\n",
    "from matplotlib import pyplot as plt"
   ]
  },
  {
   "cell_type": "code",
   "execution_count": 2,
   "id": "bbea7fbe-c3da-4d0b-801f-de7a4668a7e7",
   "metadata": {},
   "outputs": [],
   "source": [
    "# Load image\n",
    "image_bgr = cv2.imread('PLANEE.JPEG')"
   ]
  },
  {
   "cell_type": "code",
   "execution_count": 3,
   "id": "0a561af4-5d82-450b-80f3-c6dc563b4ac5",
   "metadata": {},
   "outputs": [],
   "source": [
    "# Convert BGR to HSV\n",
    "image_hsv = cv2.cvtColor(image_bgr, cv2.COLOR_BGR2HSV)"
   ]
  },
  {
   "cell_type": "code",
   "execution_count": 4,
   "id": "0945a4f2-f7ff-4acb-99a3-d002a35d9939",
   "metadata": {},
   "outputs": [],
   "source": [
    "# Define range of blue values in HSV\n",
    "lower_blue = np.array([50,100,50])\n",
    "upper_blue = np.array([130,255,255])"
   ]
  },
  {
   "cell_type": "code",
   "execution_count": 5,
   "id": "fd92297b-a902-4a5b-a23d-fefc448c492f",
   "metadata": {},
   "outputs": [],
   "source": [
    "# Create mask\n",
    "mask = cv2.inRange(image_hsv, lower_blue, upper_blue)"
   ]
  },
  {
   "cell_type": "code",
   "execution_count": 6,
   "id": "0d6baba1-6180-41a4-b19c-a6652ff9e233",
   "metadata": {},
   "outputs": [],
   "source": [
    "# Mask image\n",
    "image_bgr_masked = cv2.bitwise_and(image_bgr, image_bgr, mask=mask)"
   ]
  },
  {
   "cell_type": "code",
   "execution_count": 7,
   "id": "4e08455d-1fd0-4e10-bcb9-74b81bca356e",
   "metadata": {},
   "outputs": [],
   "source": [
    "# Convert BGR to RGB\n",
    "image_rgb = cv2.cvtColor(image_bgr_masked, cv2.COLOR_BGR2RGB)"
   ]
  },
  {
   "cell_type": "code",
   "execution_count": 8,
   "id": "7ff4a4f9-445e-4034-acb3-1406db6e34d8",
   "metadata": {},
   "outputs": [
    {
     "data": {
      "image/png": "[encoded data removed]",
      "text/plain": [
       "<Figure size 640x480 with 1 Axes>"
      ]
     },
     "metadata": {},
     "output_type": "display_data"
    }
   ],
   "source": [
    "# Show image\n",
    "plt.imshow(image_rgb), plt.axis(\"off\")\n",
    "plt.show()"
   ]
  },
  {
   "cell_type": "code",
   "execution_count": null,
   "id": "f127bdf2-330e-411e-8dc6-522656841f3b",
   "metadata": {},
   "outputs": [],
   "source": []
  }
 ],
 "metadata": {
  "kernelspec": {
   "display_name": "Python 3 (ipykernel)",
   "language": "python",
   "name": "python3"
  },
  "language_info": {
   "codemirror_mode": {
    "name": "ipython",
    "version": 3
   },
   "file_extension": ".py",
   "mimetype": "text/x-python",
   "name": "python",
   "nbconvert_exporter": "python",
   "pygments_lexer": "ipython3",
   "version": "3.12.3"
  }
 },
 "nbformat": 4,
 "nbformat_minor": 5
}
